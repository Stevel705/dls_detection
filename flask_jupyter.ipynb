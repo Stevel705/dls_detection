{
 "cells": [
  {
   "cell_type": "code",
   "execution_count": null,
   "metadata": {},
   "outputs": [
    {
     "name": "stderr",
     "output_type": "stream",
     "text": [
      " * Running on http://localhost:9000/ (Press CTRL+C to quit)\n"
     ]
    },
    {
     "name": "stdout",
     "output_type": "stream",
     "text": [
      "Using device: cuda\n"
     ]
    },
    {
     "name": "stderr",
     "output_type": "stream",
     "text": [
      "127.0.0.1 - - [09/Feb/2020 09:35:27] \"\u001b[37mGET / HTTP/1.1\u001b[0m\" 200 -\n",
      "127.0.0.1 - - [09/Feb/2020 09:36:15] \"\u001b[37mGET /detect?url=https://ovedma.ru/wp-content/uploads/2018/01/2kB1zcCyL1I-1.jpg HTTP/1.1\u001b[0m\" 200 -\n"
     ]
    }
   ],
   "source": [
    "from flask import Flask, request, jsonify, make_response, redirect, render_template\n",
    "import urllib.request\n",
    "# import urllib3.request\n",
    "import cv2\n",
    "from server.image_processing import ImageProcessing\n",
    "\n",
    "app = Flask(__name__)\n",
    "ip = ImageProcessing() \n",
    "hdr = {'User-Agent': 'Mozilla/5.0 (X11; Linux x86_64) AppleWebKit/537.11 (KHTML, like Gecko) Chrome/23.0.1271.64 Safari/537.11',\n",
    "       'Accept': 'text/html,application/xhtml+xml,application/xml;q=0.9,*/*;q=0.8',\n",
    "       'Accept-Charset': 'ISO-8859-1,utf-8;q=0.7,*;q=0.3',\n",
    "       'Accept-Encoding': 'none',\n",
    "       'Accept-Language': 'en-US,en;q=0.8',\n",
    "       'Connection': 'keep-alive'}\n",
    "\n",
    "user_agent = 'Mozilla/5.0 (iPhone; CPU iPhone OS 5_0 like Mac OS X) AppleWebKit/534.46'\n",
    "\n",
    "@app.errorhandler(400)\n",
    "def bad_request(e):\n",
    "    # return also the code error\n",
    "    return jsonify({\"status\": \"not ok\", \"message\": \"this server could not understand your request\"}), 400\n",
    "\n",
    "@app.errorhandler(404)\n",
    "def not_found(e):\n",
    "    # return also the code error\n",
    "    return jsonify({\"status\": \"not found\", \"message\": \"route not found\"}), 404\n",
    "\n",
    "@app.errorhandler(500)\n",
    "def not_found(e):\n",
    "    # return also the code error\n",
    "    return jsonify({\"status\": \"internal error\", \"message\": \"internal error occurred in server\"}), 500\n",
    "\n",
    "\n",
    "@app.route('/detect', methods=['GET', 'POST'])\n",
    "def detect_human_faces():\n",
    "    if request.method == 'GET':\n",
    "        if request.args.get('url'):\n",
    "            with urllib.request.urlopen(request.args.get('url')) as url:\n",
    "                image_with_boxes = ip.object_detection(url.read())\n",
    "                retval, buffer = cv2.imencode('.jpg', image_with_boxes)\n",
    "                response = make_response(buffer.tobytes())\n",
    "                response.headers['Content-Type'] = 'image/jpeg'\n",
    "                return response\n",
    "                # return jsonify({\"status\": \"ok\", \"result\": ip.object_detection(url.read())}), 200\n",
    "        else:\n",
    "            return jsonify({\"status\": \"bad request\", \"message\": \"Parameter url is not present\"}), 400\n",
    "    elif request.method == 'POST':\n",
    "        # return render_template(\"index.html\")\n",
    "        if request.files.get(\"image\"):\n",
    "            return jsonify({\"status\": \"ok\", \"result\": ip.object_detection(request.files[\"image\"].read())}), 200\n",
    "        else:\n",
    "            return jsonify({\"status\": \"bad request\", \"message\": \"Parameter image is not present\"}), 400\n",
    "    else:\n",
    "        return jsonify({\"status\": \"failure\", \"message\": \"PUT method not supported for API\"}), 405\n",
    "\n",
    "@app.route('/', methods=[\"GET\"])\n",
    "def info_view():\n",
    "    # List of routes for this API:\n",
    "    output = {\n",
    "        'info': 'GET /',\n",
    "        'detect faces via POST': 'POST /detect',\n",
    "        'detect faces via GET': 'GET /detect',\n",
    "    }\n",
    "    return jsonify(output), 200\n",
    "\n",
    "if __name__ == '__main__':\n",
    "    from werkzeug.serving import run_simple\n",
    "    run_simple('localhost', 9000, app)\n"
   ]
  },
  {
   "cell_type": "code",
   "execution_count": 1,
   "metadata": {},
   "outputs": [
    {
     "name": "stderr",
     "output_type": "stream",
     "text": [
      " * Running on http://localhost:9000/ (Press CTRL+C to quit)\n",
      "127.0.0.1 - - [09/Feb/2020 09:33:50] \"\u001b[37mGET / HTTP/1.1\u001b[0m\" 200 -\n",
      "127.0.0.1 - - [09/Feb/2020 09:33:51] \"\u001b[33mGET /favicon.ico HTTP/1.1\u001b[0m\" 404 -\n"
     ]
    }
   ],
   "source": [
    "from werkzeug.wrappers import Request, Response\n",
    "from flask import Flask\n",
    "\n",
    "app = Flask(__name__)\n",
    "\n",
    "@app.route(\"/\")\n",
    "def hello():\n",
    "    return \"Hello World!\"\n",
    "\n",
    "if __name__ == '__main__':\n",
    "    from werkzeug.serving import run_simple\n",
    "    run_simple('localhost', 9000, app)"
   ]
  },
  {
   "cell_type": "code",
   "execution_count": null,
   "metadata": {},
   "outputs": [],
   "source": []
  }
 ],
 "metadata": {
  "kernelspec": {
   "display_name": "Python 3",
   "language": "python",
   "name": "python3"
  },
  "language_info": {
   "codemirror_mode": {
    "name": "ipython",
    "version": 3
   },
   "file_extension": ".py",
   "mimetype": "text/x-python",
   "name": "python",
   "nbconvert_exporter": "python",
   "pygments_lexer": "ipython3",
   "version": "3.7.4"
  }
 },
 "nbformat": 4,
 "nbformat_minor": 2
}
