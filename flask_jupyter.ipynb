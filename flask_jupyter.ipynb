{
 "cells": [
  {
   "cell_type": "markdown",
   "metadata": {},
   "source": []
  },
  {
   "cell_type": "code",
   "execution_count": 1,
   "metadata": {},
   "outputs": [
    {
     "name": "stderr",
     "output_type": "stream",
     "text": [
      " * Running on http://localhost:5000/ (Press CTRL+C to quit)\n"
     ]
    },
    {
     "name": "stdout",
     "output_type": "stream",
     "text": [
      "Using device: cuda\n"
     ]
    },
    {
     "name": "stderr",
     "output_type": "stream",
     "text": [
      "127.0.0.1 - - [09/Feb/2020 10:25:07] \"\u001b[37mGET / HTTP/1.1\u001b[0m\" 200 -\n",
      "127.0.0.1 - - [09/Feb/2020 10:25:13] \"\u001b[1m\u001b[31mGET /detect HTTP/1.1\u001b[0m\" 400 -\n"
     ]
    }
   ],
   "source": [
    "from flask import Flask, request, jsonify, make_response, redirect, render_template, flash, url_for\n",
    "from werkzeug.utils import secure_filename\n",
    "import urllib.request\n",
    "import os\n",
    "import cv2\n",
    "from image_processing import ImageProcessing\n",
    "\n",
    "app = Flask(__name__)\n",
    "ip = ImageProcessing() \n",
    "\n",
    "UPLOAD_FOLDER = './src/uploads'\n",
    "ALLOWED_EXTENSIONS = {'pdf', 'png', 'jpg', 'jpeg', 'gif'}\n",
    "app.config['UPLOAD_FOLDER'] = UPLOAD_FOLDER\n",
    "\n",
    "def allowed_file(filename):\n",
    "    return '.' in filename and \\\n",
    "           filename.rsplit('.', 1)[1].lower() in ALLOWED_EXTENSIONS\n",
    "\n",
    "@app.errorhandler(400)\n",
    "def bad_request(e):\n",
    "    # return also the code error\n",
    "    return jsonify({\"status\": \"not ok\", \"message\": \"this server could not understand your request\"}), 400\n",
    "\n",
    "@app.errorhandler(404)\n",
    "def not_found(e):\n",
    "    # return also the code error\n",
    "    return jsonify({\"status\": \"not found\", \"message\": \"route not found\"}), 404\n",
    "\n",
    "@app.errorhandler(500)\n",
    "def not_found(e):\n",
    "    # return also the code error\n",
    "    return jsonify({\"status\": \"internal error\", \"message\": \"internal error occurred in server\"}), 500\n",
    "\n",
    "@app.route('/detect', methods=['GET', 'POST'])\n",
    "def detect_human_faces():\n",
    "    if request.method == 'GET':\n",
    "        if request.args.get('url'):\n",
    "            with urllib.request.urlopen(request.args.get('url')) as url:\n",
    "                image_with_boxes = ip.object_detection(url.read())\n",
    "                retval, buffer = cv2.imencode('.jpg', image_with_boxes)\n",
    "                response = make_response(buffer.tobytes())\n",
    "                response.headers['Content-Type'] = 'image/jpeg'\n",
    "                return response\n",
    "                # return jsonify({\"status\": \"ok\", \"result\": ip.object_detection(url.read())}), 200\n",
    "        else:\n",
    "            return jsonify({\"status\": \"bad request\", \"message\": \"Parameter url is not present\"}), 400\n",
    "    elif request.method == 'POST':\n",
    "        if request.files.get(\"image\"):\n",
    "            image_with_boxes = ip.object_detection(request.files[\"image\"].read())\n",
    "            retval, buffer = cv2.imencode('.jpg', image_with_boxes)\n",
    "            response = make_response(buffer.tobytes())\n",
    "            response.headers['Content-Type'] = 'image/jpeg'\n",
    "            return response\n",
    "            #return jsonify({\"status\": \"ok\", \"result\": ip.object_detection(request.files[\"image\"].read())}), 200\n",
    "        else:\n",
    "            return jsonify({\"status\": \"bad request\", \"message\": \"Parameter image is not present\"}), 400\n",
    "    else:\n",
    "        return jsonify({\"status\": \"failure\", \"message\": \"Method not supported for API\"}), 405\n",
    "\n",
    "@app.route('/uploads/<filename>')\n",
    "def uploaded_file(filename):\n",
    "    path = os.path.join(app.config['UPLOAD_FOLDER'], filename)\n",
    "    r = open(path,'rb').read()\n",
    "    image_with_boxes = ip.object_detection(r)\n",
    "    retval, buffer = cv2.imencode('.jpg', image_with_boxes)\n",
    "    response = make_response(buffer.tobytes())\n",
    "    response.headers['Content-Type'] = 'image/jpeg'\n",
    "    return response\n",
    "\n",
    "@app.route('/upload', methods=['GET', 'POST'])\n",
    "def upload_file():\n",
    "    if request.method == 'POST':\n",
    "        # check if the post request has the file part\n",
    "        if 'file' not in request.files:\n",
    "            flash('No file part')\n",
    "            return redirect(request.url)\n",
    "        file = request.files['file']\n",
    "        # if user does not select file, browser also\n",
    "        # submit an empty part without filename\n",
    "        if file.filename == '':\n",
    "            flash('No selected file')\n",
    "            return redirect(request.url)\n",
    "        if file and allowed_file(file.filename):\n",
    "            filename = secure_filename(file.filename)\n",
    "            file.save(os.path.join(app.config['UPLOAD_FOLDER'], filename))\n",
    "            return redirect(url_for('uploaded_file',\n",
    "                                    filename=filename))\n",
    "    return '''\n",
    "    <!doctype html>\n",
    "    <title>Upload new File</title>\n",
    "    <h1>Upload new File</h1>\n",
    "    <form method=post enctype=multipart/form-data>\n",
    "      <input type=file name=file>\n",
    "      <input type=submit value=Upload>\n",
    "    </form>\n",
    "    '''\n",
    "\n",
    "\n",
    "@app.route('/', methods=[\"GET\"])\n",
    "def info_view():\n",
    "    # List of routes for this API:\n",
    "    output = {\n",
    "        'info': 'GET /',\n",
    "        'detect faces via POST': 'POST /detect',\n",
    "        'detect faces via GET': 'GET /detect',\n",
    "    }\n",
    "    return jsonify(output), 200\n",
    "\n",
    "if __name__ == \"__main__\":\n",
    "    from werkzeug.serving import run_simple\n",
    "    run_simple('localhost', 5000, app)\n",
    "\n",
    "\n"
   ]
  },
  {
   "cell_type": "code",
   "execution_count": 1,
   "metadata": {},
   "outputs": [
    {
     "name": "stderr",
     "output_type": "stream",
     "text": [
      " * Running on http://localhost:9000/ (Press CTRL+C to quit)\n",
      "127.0.0.1 - - [09/Feb/2020 09:33:50] \"\u001b[37mGET / HTTP/1.1\u001b[0m\" 200 -\n",
      "127.0.0.1 - - [09/Feb/2020 09:33:51] \"\u001b[33mGET /favicon.ico HTTP/1.1\u001b[0m\" 404 -\n"
     ]
    }
   ],
   "source": [
    "from werkzeug.wrappers import Request, Response\n",
    "from flask import Flask\n",
    "\n",
    "app = Flask(__name__)\n",
    "\n",
    "@app.route(\"/\")\n",
    "def hello():\n",
    "    return \"Hello World!\"\n",
    "\n",
    "if __name__ == '__main__':\n",
    "    from werkzeug.serving import run_simple\n",
    "    run_simple('localhost', 9000, app)"
   ]
  },
  {
   "cell_type": "code",
   "execution_count": null,
   "metadata": {},
   "outputs": [],
   "source": []
  }
 ],
 "metadata": {
  "kernelspec": {
   "display_name": "Python 3",
   "language": "python",
   "name": "python3"
  },
  "language_info": {
   "codemirror_mode": {
    "name": "ipython",
    "version": 3
   },
   "file_extension": ".py",
   "mimetype": "text/x-python",
   "name": "python",
   "nbconvert_exporter": "python",
   "pygments_lexer": "ipython3",
   "version": "3.7.4"
  }
 },
 "nbformat": 4,
 "nbformat_minor": 2
}
